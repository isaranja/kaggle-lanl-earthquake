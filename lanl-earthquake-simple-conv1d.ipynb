{
 "cells": [
  {
   "cell_type": "code",
   "execution_count": 1,
   "metadata": {
    "_cell_guid": "b1076dfc-b9ad-4769-8c92-a6c4dae69d19",
    "_uuid": "8f2839f25d086af736a60e9eeb907d3b93b6e0e5"
   },
   "outputs": [],
   "source": [
    "import numpy as np # linear algebra\n",
    "import pandas as pd # data processing, CSV file I/O (e.g. pd.read_csv)\n",
    "from statistics import mean\n",
    "import gc\n",
    "\n",
    "\n",
    "from sklearn.preprocessing import StandardScaler,OneHotEncoder\n",
    "\n",
    "import os\n",
    "from tqdm import tqdm\n",
    "import random\n",
    "\n",
    "import warnings\n",
    "warnings.filterwarnings('ignore')\n"
   ]
  },
  {
   "cell_type": "code",
   "execution_count": 2,
   "metadata": {},
   "outputs": [
    {
     "name": "stderr",
     "output_type": "stream",
     "text": [
      "Using TensorFlow backend.\n"
     ]
    },
    {
     "data": {
      "text/plain": [
       "['/job:localhost/replica:0/task:0/device:GPU:0']"
      ]
     },
     "execution_count": 2,
     "metadata": {},
     "output_type": "execute_result"
    }
   ],
   "source": [
    "from keras import backend as K\n",
    "K.tensorflow_backend._get_available_gpus()"
   ]
  },
  {
   "cell_type": "code",
   "execution_count": 3,
   "metadata": {},
   "outputs": [],
   "source": [
    "from keras.models import Sequential\n",
    "from keras.layers import Dense, Dropout, Conv1D, MaxPooling1D, GlobalAveragePooling1D, Input, CuDNNLSTM, Flatten\n",
    "from keras.optimizers import Adam\n",
    "from keras.losses import mean_squared_error\n",
    "from keras.callbacks import History"
   ]
  },
  {
   "cell_type": "code",
   "execution_count": 4,
   "metadata": {},
   "outputs": [],
   "source": [
    "train_data = pd.read_csv('../input/train.csv',dtype = {'acoustic_data':np.float32,'time_to_failure':np.float32})\n",
    "\n",
    "\n"
   ]
  },
  {
   "cell_type": "code",
   "execution_count": 5,
   "metadata": {},
   "outputs": [
    {
     "name": "stderr",
     "output_type": "stream",
     "text": [
      "100%|██████████| 4194/4194 [00:04<00:00, 862.15it/s]\n"
     ]
    }
   ],
   "source": [
    "rows = 150000\n",
    "segments = int(np.floor(train_data.shape[0] / rows))\n",
    "\n",
    "X_train = np.zeros((segments,150000))\n",
    "y_train = pd.DataFrame(index = range(segments),dtype = np.float32,columns = ['time_to_failure'])\n",
    "\n",
    "for segment in tqdm(range(segments)):\n",
    "    x = train_data.iloc[segment*rows:segment*rows+rows]\n",
    "    y = x['time_to_failure'].values[-1]\n",
    "    x = x['acoustic_data'].values\n",
    "    y_train.loc[segment,'time_to_failure'] = y\n",
    "    X_train[segment] = x\n",
    "del train_data"
   ]
  },
  {
   "cell_type": "code",
   "execution_count": 6,
   "metadata": {},
   "outputs": [
    {
     "data": {
      "text/plain": [
       "7"
      ]
     },
     "execution_count": 6,
     "metadata": {},
     "output_type": "execute_result"
    }
   ],
   "source": [
    "gc.collect()"
   ]
  },
  {
   "cell_type": "code",
   "execution_count": 7,
   "metadata": {},
   "outputs": [],
   "source": [
    "X_train.shape\n",
    "y_train['time_to_failure'] = round(y_train['time_to_failure'])"
   ]
  },
  {
   "cell_type": "code",
   "execution_count": 8,
   "metadata": {},
   "outputs": [],
   "source": [
    "y_train['time_to_failure'] = y_train['time_to_failure'].astype(np.int32)"
   ]
  },
  {
   "cell_type": "code",
   "execution_count": 9,
   "metadata": {},
   "outputs": [],
   "source": [
    "ohe = OneHotEncoder()\n",
    "y_train = ohe.fit_transform(np.array(y_train['time_to_failure']).reshape(-1,1))"
   ]
  },
  {
   "cell_type": "code",
   "execution_count": 10,
   "metadata": {},
   "outputs": [
    {
     "data": {
      "text/plain": [
       "(4194, 17)"
      ]
     },
     "execution_count": 10,
     "metadata": {},
     "output_type": "execute_result"
    }
   ],
   "source": [
    "y_train.shape"
   ]
  },
  {
   "cell_type": "code",
   "execution_count": 11,
   "metadata": {},
   "outputs": [
    {
     "name": "stdout",
     "output_type": "stream",
     "text": [
      "WARNING:tensorflow:From /opt/conda/lib/python3.6/site-packages/tensorflow/python/framework/op_def_library.py:263: colocate_with (from tensorflow.python.framework.ops) is deprecated and will be removed in a future version.\n",
      "Instructions for updating:\n",
      "Colocations handled automatically by placer.\n",
      "WARNING:tensorflow:From /opt/conda/lib/python3.6/site-packages/keras/backend/tensorflow_backend.py:3445: calling dropout (from tensorflow.python.ops.nn_ops) with keep_prob is deprecated and will be removed in a future version.\n",
      "Instructions for updating:\n",
      "Please use `rate` instead of `keep_prob`. Rate should be set to `rate = 1 - keep_prob`.\n",
      "_________________________________________________________________\n",
      "Layer (type)                 Output Shape              Param #   \n",
      "=================================================================\n",
      "conv1d_1 (Conv1D)            (None, 74991, 40)         840       \n",
      "_________________________________________________________________\n",
      "max_pooling1d_1 (MaxPooling1 (None, 24997, 40)         0         \n",
      "_________________________________________________________________\n",
      "conv1d_2 (Conv1D)            (None, 24978, 40)         32040     \n",
      "_________________________________________________________________\n",
      "max_pooling1d_2 (MaxPooling1 (None, 8326, 40)          0         \n",
      "_________________________________________________________________\n",
      "conv1d_3 (Conv1D)            (None, 8307, 40)          32040     \n",
      "_________________________________________________________________\n",
      "max_pooling1d_3 (MaxPooling1 (None, 2769, 40)          0         \n",
      "_________________________________________________________________\n",
      "cu_dnnlstm_1 (CuDNNLSTM)     (None, 2769, 8)           1600      \n",
      "_________________________________________________________________\n",
      "cu_dnnlstm_2 (CuDNNLSTM)     (None, 2769, 8)           576       \n",
      "_________________________________________________________________\n",
      "conv1d_4 (Conv1D)            (None, 2760, 40)          3240      \n",
      "_________________________________________________________________\n",
      "global_average_pooling1d_1 ( (None, 40)                0         \n",
      "_________________________________________________________________\n",
      "dropout_1 (Dropout)          (None, 40)                0         \n",
      "_________________________________________________________________\n",
      "dense_1 (Dense)              (None, 17)                697       \n",
      "=================================================================\n",
      "Total params: 71,033\n",
      "Trainable params: 71,033\n",
      "Non-trainable params: 0\n",
      "_________________________________________________________________\n",
      "None\n"
     ]
    }
   ],
   "source": [
    "model = Sequential()\n",
    "model.add(Conv1D(filters=40, kernel_size=20, strides=2, activation='relu', input_shape=(150000,1)))\n",
    "model.add(MaxPooling1D(3))\n",
    "model.add(Conv1D(filters=40, kernel_size=20, strides=1, activation='relu'))\n",
    "model.add(MaxPooling1D(3))\n",
    "model.add(Conv1D(filters=40, kernel_size=20, strides=1, activation='relu'))\n",
    "model.add(MaxPooling1D(3))\n",
    "model.add(CuDNNLSTM(8,return_sequences=True))\n",
    "model.add(CuDNNLSTM(8,return_sequences=True))\n",
    "#model.add(Flatten())\n",
    "model.add(Conv1D(filters=40, kernel_size=10, strides=1, activation='relu'))\n",
    "model.add(GlobalAveragePooling1D())\n",
    "model.add(Dropout(rate=0.1))\n",
    "model.add(Dense(17,activation = 'softmax'))\n",
    "print(model.summary())"
   ]
  },
  {
   "cell_type": "code",
   "execution_count": 12,
   "metadata": {},
   "outputs": [],
   "source": [
    "model.compile(loss='categorical_crossentropy',optimizer='adam')"
   ]
  },
  {
   "cell_type": "code",
   "execution_count": 13,
   "metadata": {},
   "outputs": [
    {
     "name": "stdout",
     "output_type": "stream",
     "text": [
      "WARNING:tensorflow:From /opt/conda/lib/python3.6/site-packages/tensorflow/python/ops/math_ops.py:3066: to_int32 (from tensorflow.python.ops.math_ops) is deprecated and will be removed in a future version.\n",
      "Instructions for updating:\n",
      "Use tf.cast instead.\n",
      "Train on 3774 samples, validate on 420 samples\n",
      "Epoch 1/100\n",
      "3774/3774 [==============================] - 53s 14ms/step - loss: 2.7120 - val_loss: 2.5817\n",
      "Epoch 2/100\n",
      "3774/3774 [==============================] - 49s 13ms/step - loss: 2.5613 - val_loss: 2.2821\n",
      "Epoch 3/100\n",
      "3774/3774 [==============================] - 48s 13ms/step - loss: 2.4386 - val_loss: 2.1907\n",
      "Epoch 4/100\n",
      "3774/3774 [==============================] - 49s 13ms/step - loss: 2.3879 - val_loss: 2.1243\n",
      "Epoch 5/100\n",
      "3774/3774 [==============================] - 49s 13ms/step - loss: 2.3726 - val_loss: 2.1075\n",
      "Epoch 6/100\n",
      "3774/3774 [==============================] - 49s 13ms/step - loss: 2.3539 - val_loss: 2.1120\n",
      "Epoch 7/100\n",
      "3774/3774 [==============================] - 49s 13ms/step - loss: 2.3507 - val_loss: 2.1595\n",
      "Epoch 8/100\n",
      "3774/3774 [==============================] - 49s 13ms/step - loss: 2.3344 - val_loss: 2.0979\n",
      "Epoch 9/100\n",
      "3774/3774 [==============================] - 48s 13ms/step - loss: 2.3468 - val_loss: 2.1293\n",
      "Epoch 10/100\n",
      "3774/3774 [==============================] - 49s 13ms/step - loss: 2.3331 - val_loss: 2.1266\n",
      "Epoch 11/100\n",
      "3774/3774 [==============================] - 48s 13ms/step - loss: 2.3276 - val_loss: 2.0880\n",
      "Epoch 12/100\n",
      "3774/3774 [==============================] - 49s 13ms/step - loss: 2.3316 - val_loss: 2.1026\n",
      "Epoch 13/100\n",
      "3774/3774 [==============================] - 48s 13ms/step - loss: 2.3162 - val_loss: 2.0691\n",
      "Epoch 14/100\n",
      "3774/3774 [==============================] - 49s 13ms/step - loss: 2.3046 - val_loss: 2.1358\n",
      "Epoch 15/100\n",
      "3774/3774 [==============================] - 48s 13ms/step - loss: 2.3010 - val_loss: 2.1632\n",
      "Epoch 16/100\n",
      "3774/3774 [==============================] - 48s 13ms/step - loss: 2.2942 - val_loss: 2.0595\n",
      "Epoch 17/100\n",
      "3774/3774 [==============================] - 48s 13ms/step - loss: 2.2922 - val_loss: 2.0657\n",
      "Epoch 18/100\n",
      "3774/3774 [==============================] - 49s 13ms/step - loss: 2.2884 - val_loss: 2.0575\n",
      "Epoch 19/100\n",
      "3774/3774 [==============================] - 48s 13ms/step - loss: 2.2824 - val_loss: 2.0679\n",
      "Epoch 20/100\n",
      "3774/3774 [==============================] - 48s 13ms/step - loss: 2.2757 - val_loss: 2.0789\n",
      "Epoch 21/100\n",
      "3774/3774 [==============================] - 49s 13ms/step - loss: 2.2886 - val_loss: 2.0502\n",
      "Epoch 22/100\n",
      "3774/3774 [==============================] - 49s 13ms/step - loss: 2.2768 - val_loss: 2.0935\n",
      "Epoch 23/100\n",
      "3774/3774 [==============================] - 48s 13ms/step - loss: 2.2815 - val_loss: 2.0704\n",
      "Epoch 24/100\n",
      "3774/3774 [==============================] - 48s 13ms/step - loss: 2.2739 - val_loss: 2.0308\n",
      "Epoch 25/100\n",
      "3200/3774 [========================>.....] - ETA: 6s - loss: 2.2746"
     ]
    }
   ],
   "source": [
    "model.fit(X_train.reshape(-1,150000,1),y_train,epochs = 100, validation_split = 0.1,batch_size = 16)"
   ]
  },
  {
   "cell_type": "markdown",
   "metadata": {},
   "source": [
    "def prepareAd(x):\n",
    "    x = np.sign(x)*np.log(1 + np.sqrt(np.abs(x)))/4.4\n",
    "    return x"
   ]
  },
  {
   "cell_type": "markdown",
   "metadata": {},
   "source": [
    "def getTrainBatch(dfl,nrows,batch_size):\n",
    "    x = np.empty([batch_size,15000,1])\n",
    "    y = np.empty([batch_size,15000])\n",
    "    for i,rn in enumerate(np.random.randint(nrows-15000, size=batch_size)):\n",
    "        df = dfl.loc[rn:rn+14999,:]\n",
    "        x[i,:,0] = df.acoustic_data.values\n",
    "        y[i,:] = df.time_to_failure.values\n",
    "    return x,y"
   ]
  },
  {
   "cell_type": "markdown",
   "metadata": {},
   "source": [
    "random.seed(42)\n",
    "history = History()\n",
    "step = 150000000\n",
    "stop = 600000000\n",
    "#sc = StandardScaler()\n",
    "for i in range(0, stop, step):\n",
    "    print('Reading file chunk :',i)\n",
    "    train_df = pd.read_csv(\"../input/train.csv\",\n",
    "                           skiprows = i,\n",
    "                           nrows = step,\n",
    "                           dtype={'acoustic_data': np.int16, 'time_to_failure': np.float32}\n",
    "                          )\n",
    "    train_df.columns = ['acoustic_data','time_to_failure']\n",
    "    #train_df.acoustic_data =prepareAd(train_df.acoustic_data.values)\n",
    "    #train_df.time_to_failure = train_df.time_to_failure/16\n",
    "    \n",
    "    loss = []\n",
    "    val_loss = []\n",
    "    mae = []\n",
    "    for j in range(20):\n",
    "        #print('Generating training batch :',j)\n",
    "        x_train,y_train = getTrainBatch(train_df,step,batch_size=1024)\n",
    "        history = model.fit(x_train,\n",
    "                            y_train,\n",
    "                            batch_size=16,\n",
    "                            epochs=10,\n",
    "                            validation_split=0.1,\n",
    "                            verbose=0)\n",
    "        loss = loss + history.history['loss']\n",
    "        val_loss = val_loss + history.history['val_loss']\n",
    "        #mae = mae + history.history['mean_absolute_error']\n",
    "        if (j%5==0):\n",
    "            print('loss :',mean(loss[-10:]),' val_loss :',mean(val_loss[-10:])) #, ' val_mae :',mean(mae[-10:])*16)\n",
    "        del x_train, y_train\n",
    "        gc.collect()\n",
    "    del train_df\n",
    "    gc.collect()"
   ]
  },
  {
   "cell_type": "code",
   "execution_count": 14,
   "metadata": {},
   "outputs": [],
   "source": [
    "def predictSubmission(seg_id):\n",
    "    test_df = pd.read_csv('../input/test/' + seg_id + '.csv')\n",
    "    #y = model.predict(prepareAd(test_df.acoustic_data.values).reshape(1,150000,1))*16\n",
    "    #x = sc.fit_transform(test_df.acoustic_data.values.reshape(-1,1))\n",
    "    x = test_df.acoustic_data.values\n",
    "    y = model.predict(x.reshape(1,150000,1))\n",
    "    return np.argmax(y)"
   ]
  },
  {
   "cell_type": "code",
   "execution_count": 15,
   "metadata": {},
   "outputs": [],
   "source": [
    "submission = pd.read_csv('../input/sample_submission.csv')\n",
    "submission['time_to_failure']=submission['seg_id'].apply(predictSubmission)\n",
    "submission.to_csv('submission_8.csv',index=False)"
   ]
  },
  {
   "cell_type": "code",
   "execution_count": 16,
   "metadata": {},
   "outputs": [
    {
     "data": {
      "text/html": [
       "<div>\n",
       "<style scoped>\n",
       "    .dataframe tbody tr th:only-of-type {\n",
       "        vertical-align: middle;\n",
       "    }\n",
       "\n",
       "    .dataframe tbody tr th {\n",
       "        vertical-align: top;\n",
       "    }\n",
       "\n",
       "    .dataframe thead th {\n",
       "        text-align: right;\n",
       "    }\n",
       "</style>\n",
       "<table border=\"1\" class=\"dataframe\">\n",
       "  <thead>\n",
       "    <tr style=\"text-align: right;\">\n",
       "      <th></th>\n",
       "      <th>seg_id</th>\n",
       "      <th>time_to_failure</th>\n",
       "    </tr>\n",
       "  </thead>\n",
       "  <tbody>\n",
       "    <tr>\n",
       "      <th>0</th>\n",
       "      <td>seg_00030f</td>\n",
       "      <td>2</td>\n",
       "    </tr>\n",
       "    <tr>\n",
       "      <th>1</th>\n",
       "      <td>seg_0012b5</td>\n",
       "      <td>4</td>\n",
       "    </tr>\n",
       "    <tr>\n",
       "      <th>2</th>\n",
       "      <td>seg_00184e</td>\n",
       "      <td>4</td>\n",
       "    </tr>\n",
       "    <tr>\n",
       "      <th>3</th>\n",
       "      <td>seg_003339</td>\n",
       "      <td>7</td>\n",
       "    </tr>\n",
       "    <tr>\n",
       "      <th>4</th>\n",
       "      <td>seg_0042cc</td>\n",
       "      <td>12</td>\n",
       "    </tr>\n",
       "  </tbody>\n",
       "</table>\n",
       "</div>"
      ],
      "text/plain": [
       "       seg_id  time_to_failure\n",
       "0  seg_00030f                2\n",
       "1  seg_0012b5                4\n",
       "2  seg_00184e                4\n",
       "3  seg_003339                7\n",
       "4  seg_0042cc               12"
      ]
     },
     "execution_count": 16,
     "metadata": {},
     "output_type": "execute_result"
    }
   ],
   "source": [
    "submission.head()"
   ]
  },
  {
   "cell_type": "code",
   "execution_count": 17,
   "metadata": {},
   "outputs": [
    {
     "data": {
      "text/plain": [
       "(array([197., 682., 260., 681., 127., 101.,  98.,  77.,  92., 309.]),\n",
       " array([ 0. ,  1.6,  3.2,  4.8,  6.4,  8. ,  9.6, 11.2, 12.8, 14.4, 16. ]),\n",
       " <a list of 10 Patch objects>)"
      ]
     },
     "execution_count": 17,
     "metadata": {},
     "output_type": "execute_result"
    },
    {
     "data": {
      "image/png": "[encoded data removed]",
      "text/plain": [
       "<Figure size 432x288 with 1 Axes>"
      ]
     },
     "metadata": {},
     "output_type": "display_data"
    }
   ],
   "source": [
    "import matplotlib.pyplot as plt\n",
    "plt.hist(submission['time_to_failure'])\n"
   ]
  },
  {
   "cell_type": "code",
   "execution_count": 18,
   "metadata": {},
   "outputs": [],
   "source": [
    "submission.to_csv('l.csv',index = False)"
   ]
  },
  {
   "cell_type": "code",
   "execution_count": 19,
   "metadata": {},
   "outputs": [
    {
     "data": {
      "text/html": [
       "<a href=l.csv>Download CSV file</a>"
      ],
      "text/plain": [
       "<IPython.core.display.HTML object>"
      ]
     },
     "execution_count": 19,
     "metadata": {},
     "output_type": "execute_result"
    }
   ],
   "source": [
    "from IPython.display import HTML\n",
    "\n",
    "def create_download_link(title = \"Download CSV file\", filename = \"data.csv\"):  \n",
    "    html = '<a href={filename}>{title}</a>'\n",
    "    html = html.format(title=title,filename=filename)\n",
    "    return HTML(html)\n",
    "\n",
    "# create a link to download the dataframe which was saved with .to_csv method\n",
    "create_download_link(filename='l.csv')"
   ]
  },
  {
   "cell_type": "code",
   "execution_count": 20,
   "metadata": {},
   "outputs": [
    {
     "data": {
      "text/html": [
       "<a href = \"l.csv\">d</a>"
      ],
      "text/plain": [
       "<IPython.core.display.HTML object>"
      ]
     },
     "execution_count": 20,
     "metadata": {},
     "output_type": "execute_result"
    }
   ],
   "source": [
    "from IPython.display import HTML\n",
    "html = '<a href = \"l.csv\">d</a>'\n",
    "HTML(html)"
   ]
  },
  {
   "cell_type": "code",
   "execution_count": 21,
   "metadata": {},
   "outputs": [],
   "source": [
    "def testInfo(seg_id):\n",
    "    test_df = pd.read_csv('../input/test/' + seg_id + '.csv')\n",
    "    return(test_df.acoustic_data.max())\n",
    "#submission = pd.read_csv('../input/sample_submission.csv')\n",
    "#submission['time_to_failure']=submission['seg_id'].apply(testInfo)"
   ]
  },
  {
   "cell_type": "code",
   "execution_count": 22,
   "metadata": {},
   "outputs": [],
   "source": []
  }
 ],
 "metadata": {
  "kernelspec": {
   "display_name": "Python 3",
   "language": "python",
   "name": "python3"
  },
  "language_info": {
   "codemirror_mode": {
    "name": "ipython",
    "version": 3
   },
   "file_extension": ".py",
   "mimetype": "text/x-python",
   "name": "python",
   "nbconvert_exporter": "python",
   "pygments_lexer": "ipython3",
   "version": "3.6.4"
  }
 },
 "nbformat": 4,
 "nbformat_minor": 1
}
