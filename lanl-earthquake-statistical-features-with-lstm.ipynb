{
 "cells": [
  {
   "cell_type": "code",
   "execution_count": 1,
   "metadata": {
    "_cell_guid": "b1076dfc-b9ad-4769-8c92-a6c4dae69d19",
    "_uuid": "8f2839f25d086af736a60e9eeb907d3b93b6e0e5"
   },
   "outputs": [],
   "source": [
    "import numpy as np # linear algebra\n",
    "import pandas as pd # data processing, CSV file I/O (e.g. pd.read_csv)\n",
    "import gc\n",
    "from statistics import mean\n",
    "\n",
    "import os\n",
    "\n",
    "import random\n",
    "from tqdm import tqdm_notebook as tqdm\n",
    "from tqdm import tqdm_pandas\n",
    "\n",
    "import warnings\n",
    "warnings.filterwarnings('ignore')"
   ]
  },
  {
   "cell_type": "code",
   "execution_count": 2,
   "metadata": {},
   "outputs": [
    {
     "data": {
      "application/vnd.jupyter.widget-view+json": {
       "model_id": "0bc19f4eb7044c2b95b002cd9bf43366",
       "version_major": 2,
       "version_minor": 0
      },
      "text/plain": [
       "HBox(children=(IntProgress(value=0, max=1), HTML(value='')))"
      ]
     },
     "metadata": {},
     "output_type": "display_data"
    },
    {
     "name": "stdout",
     "output_type": "stream",
     "text": [
      "\n"
     ]
    }
   ],
   "source": [
    "step = 100000000\n",
    "stop = 100000000\n",
    "X = pd.DataFrame(dtype = np.float32,columns = ['mean','std','99quat','50quat','25quat','1quat','time_to_failure'])\n",
    "j = 0\n",
    "for i in tqdm(range(0, stop, step)):\n",
    "    train_df = pd.read_csv(\"../input/train.csv\",\n",
    "                           skiprows = i,\n",
    "                           nrows = step,\n",
    "                           dtype={'acoustic_data': np.int16, 'time_to_failure': np.float32}\n",
    "                          )\n",
    "    train_df.columns = ['acoustic_data','time_to_failure']\n",
    "    seg_len = 5000\n",
    "    segments = int(np.floor(train_df.shape[0] / seg_len))\n",
    "    for segment in range(segments):\n",
    "        x = train_df.acoustic_data[segment*seg_len:segment*seg_len+seg_len]\n",
    "        X.loc[j,'mean'] = np.mean(x)\n",
    "        X.loc[j,'std']  = np.std(x)\n",
    "        X.loc[j,'99quat'] = np.quantile(x,0.99)\n",
    "        X.loc[j,'50quat'] = np.quantile(x,0.5)\n",
    "        X.loc[j,'25quat'] = np.quantile(x,0.25)\n",
    "        X.loc[j,'1quat'] =  np.quantile(x,0.01)\n",
    "        X.loc[j,'time_to_failure'] = train_df.time_to_failure.values[segment*seg_len+seg_len-1]\n",
    "        j +=1\n",
    "    del train_df\n",
    "    gc.collect()\n",
    "    "
   ]
  },
  {
   "cell_type": "code",
   "execution_count": 3,
   "metadata": {},
   "outputs": [],
   "source": [
    "from sklearn.preprocessing import MinMaxScaler\n",
    "scaler = MinMaxScaler() \n",
    "X.iloc[:,:-1] = scaler.fit_transform(X.iloc[:,:-1])"
   ]
  },
  {
   "cell_type": "code",
   "execution_count": 4,
   "metadata": {},
   "outputs": [],
   "source": [
    "def getTrainBatch(dfl,seg_len,batch_size):\n",
    "    x = np.empty([batch_size,seg_len,6])\n",
    "    y = np.empty([batch_size,1])\n",
    "    for i,rn in enumerate(np.random.randint(dfl.shape[0]-seg_len, size=batch_size)):\n",
    "        df = dfl.loc[rn:rn+seg_len-1,:]\n",
    "        x[i,:,:] = df.iloc[:,:-1]\n",
    "        y[i] = df.iloc[-1,-1]\n",
    "    return x,y"
   ]
  },
  {
   "cell_type": "code",
   "execution_count": 5,
   "metadata": {},
   "outputs": [
    {
     "name": "stderr",
     "output_type": "stream",
     "text": [
      "Using TensorFlow backend.\n"
     ]
    }
   ],
   "source": [
    "from keras.models import Sequential\n",
    "from keras.layers import Dense, Dropout, CuDNNLSTM\n",
    "from keras.optimizers import Adam\n",
    "from keras.losses import mean_squared_error\n",
    "from keras.callbacks import History"
   ]
  },
  {
   "cell_type": "code",
   "execution_count": 6,
   "metadata": {},
   "outputs": [
    {
     "name": "stdout",
     "output_type": "stream",
     "text": [
      "WARNING:tensorflow:From /opt/conda/lib/python3.6/site-packages/tensorflow/python/framework/op_def_library.py:263: colocate_with (from tensorflow.python.framework.ops) is deprecated and will be removed in a future version.\n",
      "Instructions for updating:\n",
      "Colocations handled automatically by placer.\n",
      "WARNING:tensorflow:From /opt/conda/lib/python3.6/site-packages/keras/backend/tensorflow_backend.py:3445: calling dropout (from tensorflow.python.ops.nn_ops) with keep_prob is deprecated and will be removed in a future version.\n",
      "Instructions for updating:\n",
      "Please use `rate` instead of `keep_prob`. Rate should be set to `rate = 1 - keep_prob`.\n",
      "_________________________________________________________________\n",
      "Layer (type)                 Output Shape              Param #   \n",
      "=================================================================\n",
      "cu_dnnlstm_1 (CuDNNLSTM)     (None, 30, 64)            18432     \n",
      "_________________________________________________________________\n",
      "cu_dnnlstm_2 (CuDNNLSTM)     (None, 64)                33280     \n",
      "_________________________________________________________________\n",
      "dropout_1 (Dropout)          (None, 64)                0         \n",
      "_________________________________________________________________\n",
      "dense_1 (Dense)              (None, 1)                 65        \n",
      "=================================================================\n",
      "Total params: 51,777\n",
      "Trainable params: 51,777\n",
      "Non-trainable params: 0\n",
      "_________________________________________________________________\n",
      "None\n"
     ]
    }
   ],
   "source": [
    "model = Sequential()\n",
    "\n",
    "model.add(CuDNNLSTM(64 ,return_sequences=True ,input_shape=(30, 6)))\n",
    "model.add(CuDNNLSTM(64))\n",
    "model.add(Dropout(rate=0.5))\n",
    "model.add(Dense(1, activation='linear'))\n",
    "\n",
    "print(model.summary())"
   ]
  },
  {
   "cell_type": "code",
   "execution_count": 7,
   "metadata": {},
   "outputs": [],
   "source": [
    "model.compile(loss='mean_absolute_error',optimizer='adam',metrics=['mae'])"
   ]
  },
  {
   "cell_type": "code",
   "execution_count": 8,
   "metadata": {},
   "outputs": [
    {
     "data": {
      "application/vnd.jupyter.widget-view+json": {
       "model_id": "f626ce627e544c8090c5a051ae6a0eb2",
       "version_major": 2,
       "version_minor": 0
      },
      "text/plain": [
       "HBox(children=(IntProgress(value=0, max=101), HTML(value='')))"
      ]
     },
     "metadata": {},
     "output_type": "display_data"
    },
    {
     "name": "stdout",
     "output_type": "stream",
     "text": [
      "WARNING:tensorflow:From /opt/conda/lib/python3.6/site-packages/tensorflow/python/ops/math_ops.py:3066: to_int32 (from tensorflow.python.ops.math_ops) is deprecated and will be removed in a future version.\n",
      "Instructions for updating:\n",
      "Use tf.cast instead.\n",
      "loss : 3.43531976401094  val_loss : 3.098019009886436\n",
      "loss : 3.2454973077152762  val_loss : 3.05819864203629\n",
      "loss : 2.0904933627860682  val_loss : 1.8587029714607497\n",
      "loss : 2.1327819793542746  val_loss : 1.9976456167628465\n",
      "loss : 1.9521911596112869  val_loss : 1.9889341762633\n",
      "loss : 2.034992509200182  val_loss : 1.5764679394879388\n",
      "loss : 1.9156632992977947  val_loss : 1.8855964896748367\n",
      "loss : 1.9024245364658219  val_loss : 2.0461536794032864\n",
      "loss : 1.74318339306938  val_loss : 1.7156517761424908\n",
      "loss : 1.657940808750778  val_loss : 1.7494098979292565\n",
      "loss : 1.6577117397394294  val_loss : 1.559677595883897\n",
      "\n"
     ]
    }
   ],
   "source": [
    "loss = []\n",
    "val_loss = []\n",
    "for j in tqdm(range(101)):\n",
    "        #print('Generating training batch :',j)\n",
    "        x_train,y_train = getTrainBatch(X,30,batch_size=1024)\n",
    "        history = model.fit(x_train,\n",
    "                            y_train,\n",
    "                            batch_size=16,\n",
    "                            epochs=10,\n",
    "                            validation_split=0.1,\n",
    "                            verbose=0)\n",
    "        loss = loss + history.history['loss']\n",
    "        val_loss = val_loss + history.history['val_loss']\n",
    "        #mae = mae + history.history['mean_absolute_error']\n",
    "        if (j%10==0):\n",
    "            print('loss :',mean(loss[-10:]),' val_loss :',mean(val_loss[-10:])) #, ' val_mae :',mean(mae[-10:])*16)\n",
    "        del x_train, y_train\n",
    "        gc.collect()"
   ]
  },
  {
   "cell_type": "code",
   "execution_count": 9,
   "metadata": {},
   "outputs": [],
   "source": [
    "# predicting the submission\n",
    "def predictSubmission(seg_id):\n",
    "    X_test = pd.DataFrame(dtype = np.float32,columns = ['mean','std','99quat','50quat','25quat','1quat'])\n",
    "    test_df = pd.read_csv('../input/test/' + seg_id + '.csv')\n",
    "    seg_len = 5000\n",
    "    segments = int(np.floor(test_df.shape[0] / seg_len))\n",
    "    for i,segment in enumerate(range(segments)):\n",
    "        x = test_df.acoustic_data[segment*seg_len:segment*seg_len+seg_len]\n",
    "        X_test.loc[i,'mean'] = np.mean(x)\n",
    "        X_test.loc[i,'std']  = np.std(x)\n",
    "        X_test.loc[i,'99quat'] = np.quantile(x,0.99)\n",
    "        X_test.loc[i,'50quat'] = np.quantile(x,0.5)\n",
    "        X_test.loc[i,'25quat'] = np.quantile(x,0.25)\n",
    "        X_test.loc[i,'1quat'] =  np.quantile(x,0.01)\n",
    "    y = model.predict(scaler.transform(X_test).reshape(1,30,6))\n",
    "    return y[0][0]"
   ]
  },
  {
   "cell_type": "code",
   "execution_count": 10,
   "metadata": {},
   "outputs": [
    {
     "data": {
      "application/vnd.jupyter.widget-view+json": {
       "model_id": "5971e19d4c7747cf92a9a8a855ffa6d8",
       "version_major": 2,
       "version_minor": 0
      },
      "text/plain": [
       "HBox(children=(IntProgress(value=1, bar_style='info', max=1), HTML(value='')))"
      ]
     },
     "metadata": {},
     "output_type": "display_data"
    },
    {
     "name": "stdout",
     "output_type": "stream",
     "text": [
      "\n",
      "TqdmDeprecationWarning: Please use `tqdm.pandas(...)` instead of `tqdm_pandas(tqdm(...))`.\n",
      "\n"
     ]
    }
   ],
   "source": [
    "tqdm_pandas(tqdm())\n",
    "submission = pd.read_csv('../input/sample_submission.csv')\n",
    "submission.loc[:,'time_to_failure']=submission.loc[:,'seg_id'].progress_apply(predictSubmission)\n",
    "submission.to_csv('submission_10.csv',index=False)"
   ]
  },
  {
   "cell_type": "code",
   "execution_count": 11,
   "metadata": {},
   "outputs": [
    {
     "data": {
      "text/html": [
       "<div>\n",
       "<style scoped>\n",
       "    .dataframe tbody tr th:only-of-type {\n",
       "        vertical-align: middle;\n",
       "    }\n",
       "\n",
       "    .dataframe tbody tr th {\n",
       "        vertical-align: top;\n",
       "    }\n",
       "\n",
       "    .dataframe thead th {\n",
       "        text-align: right;\n",
       "    }\n",
       "</style>\n",
       "<table border=\"1\" class=\"dataframe\">\n",
       "  <thead>\n",
       "    <tr style=\"text-align: right;\">\n",
       "      <th></th>\n",
       "      <th>seg_id</th>\n",
       "      <th>time_to_failure</th>\n",
       "    </tr>\n",
       "  </thead>\n",
       "  <tbody>\n",
       "    <tr>\n",
       "      <th>0</th>\n",
       "      <td>seg_00030f</td>\n",
       "      <td>7.289006</td>\n",
       "    </tr>\n",
       "    <tr>\n",
       "      <th>1</th>\n",
       "      <td>seg_0012b5</td>\n",
       "      <td>6.249526</td>\n",
       "    </tr>\n",
       "    <tr>\n",
       "      <th>2</th>\n",
       "      <td>seg_00184e</td>\n",
       "      <td>8.097557</td>\n",
       "    </tr>\n",
       "    <tr>\n",
       "      <th>3</th>\n",
       "      <td>seg_003339</td>\n",
       "      <td>11.046974</td>\n",
       "    </tr>\n",
       "    <tr>\n",
       "      <th>4</th>\n",
       "      <td>seg_0042cc</td>\n",
       "      <td>6.546412</td>\n",
       "    </tr>\n",
       "  </tbody>\n",
       "</table>\n",
       "</div>"
      ],
      "text/plain": [
       "       seg_id  time_to_failure\n",
       "0  seg_00030f         7.289006\n",
       "1  seg_0012b5         6.249526\n",
       "2  seg_00184e         8.097557\n",
       "3  seg_003339        11.046974\n",
       "4  seg_0042cc         6.546412"
      ]
     },
     "execution_count": 11,
     "metadata": {},
     "output_type": "execute_result"
    }
   ],
   "source": [
    "submission.head()"
   ]
  },
  {
   "cell_type": "code",
   "execution_count": 12,
   "metadata": {},
   "outputs": [],
   "source": []
  }
 ],
 "metadata": {
  "kernelspec": {
   "display_name": "Python 3",
   "language": "python",
   "name": "python3"
  },
  "language_info": {
   "codemirror_mode": {
    "name": "ipython",
    "version": 3
   },
   "file_extension": ".py",
   "mimetype": "text/x-python",
   "name": "python",
   "nbconvert_exporter": "python",
   "pygments_lexer": "ipython3",
   "version": "3.6.4"
  }
 },
 "nbformat": 4,
 "nbformat_minor": 1
}
